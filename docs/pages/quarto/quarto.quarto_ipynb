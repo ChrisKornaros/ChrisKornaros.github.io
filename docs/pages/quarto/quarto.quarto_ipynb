{
  "cells": [
    {
      "cell_type": "markdown",
      "metadata": {},
      "source": [
        "---\n",
        "title: \"Quarto Development Notes\"\n",
        "---\n",
        "\n",
        "\n",
        "# Quarto\n",
        "## Overview\n",
        "Quarto is a ...\n",
        "\n",
        "## Projects\n",
        "### Initializing a Project\n",
        "\n",
        "### Rendering a Projects\n",
        "\n",
        "## Websites\n",
        "### Rendering Websites\n",
        "\n",
        "\n",
        "```{bash}\n",
        "cd docs\n",
        "quarto render . --output-dir . # This ensures sub page .qmd files are rendered in .html as well, otherwise pages aren't viewable\n",
        "```"
      ],
      "id": "d4b1434b"
    }
  ],
  "metadata": {
    "kernelspec": {
      "display_name": "Python 3",
      "language": "python",
      "name": "python3"
    }
  },
  "nbformat": 4,
  "nbformat_minor": 5
}